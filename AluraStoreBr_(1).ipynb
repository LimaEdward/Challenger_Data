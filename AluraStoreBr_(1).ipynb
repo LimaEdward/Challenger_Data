{
  "nbformat": 4,
  "nbformat_minor": 0,
  "metadata": {
    "colab": {
      "provenance": [],
      "collapsed_sections": [
        "RhEdWd9YUR6H",
        "X62IW3KFUIYm",
        "2V_vcAPzWZmR",
        "Rq6tU_xSY3jk",
        "DmNp1KPBZCm-",
        "Fl0cGi3bZKqU",
        "B_OdF-BT5SEN",
        "VsMpNRBP7YAk"
      ],
      "include_colab_link": true
    },
    "kernelspec": {
      "name": "python3",
      "display_name": "Python 3"
    },
    "language_info": {
      "name": "python"
    }
  },
  "cells": [
    {
      "cell_type": "markdown",
      "metadata": {
        "id": "view-in-github",
        "colab_type": "text"
      },
      "source": [
        "<a href=\"https://colab.research.google.com/github/LimaEdward/Challenger_Data/blob/main/AluraStoreBr_(1).ipynb\" target=\"_parent\"><img src=\"https://colab.research.google.com/assets/colab-badge.svg\" alt=\"Open In Colab\"/></a>"
      ]
    },
    {
      "cell_type": "markdown",
      "source": [
        "### Importação dos dados\n",
        "\n"
      ],
      "metadata": {
        "id": "RhEdWd9YUR6H"
      }
    },
    {
      "cell_type": "code",
      "execution_count": 17,
      "metadata": {
        "id": "T3EvaeQ_INIL",
        "colab": {
          "base_uri": "https://localhost:8080/"
        },
        "outputId": "90077a6e-2f8d-4328-cbc8-8ce690cc64bd"
      },
      "outputs": [
        {
          "output_type": "stream",
          "name": "stdout",
          "text": [
            "                    Produto   Categoria do Produto    Preço      Frete  \\\n",
            "0               Lava louças       eletrodomesticos  1446.46  74.604083   \n",
            "1                  Cama box                 moveis   631.70  33.919251   \n",
            "2          Bola de basquete        esporte e lazer    31.54   0.000000   \n",
            "3       Modelagem preditiva                 livros    76.93   1.680730   \n",
            "4            Fone de ouvido            eletronicos   185.14   7.442587   \n",
            "...                     ...                    ...      ...        ...   \n",
            "2353         Mesa de jantar                 moveis   303.60  16.852799   \n",
            "2354  Cadeira de escritório                 moveis   456.02  24.812798   \n",
            "2355           Copo térmico        esporte e lazer    48.99   3.139675   \n",
            "2356        Jogo de panelas  utilidades domesticas   202.45  11.062979   \n",
            "2357         Corda de pular        esporte e lazer    14.89   1.732696   \n",
            "\n",
            "     Data da Compra        Vendedor Local da compra  Avaliação da compra  \\\n",
            "0        11/11/2022    Rafael Costa              SP                    4   \n",
            "1        03/01/2020    Thiago Silva              GO                    5   \n",
            "2        25/12/2022   Larissa Alves              MG                    5   \n",
            "3        23/11/2021  Lucas Oliveira              MG                    3   \n",
            "4        25/04/2022   Bianca Santos              SP                    4   \n",
            "...             ...             ...             ...                  ...   \n",
            "2353     12/02/2020  Camila Ribeiro              RJ                    5   \n",
            "2354     17/05/2022   Felipe Santos              PE                    5   \n",
            "2355     03/05/2022  Camila Ribeiro              SP                    5   \n",
            "2356     15/06/2020   Bianca Santos              PR                    5   \n",
            "2357     17/11/2021   Felipe Santos              SP                    5   \n",
            "\n",
            "     Tipo de pagamento  Quantidade de parcelas    lat    lon  \n",
            "0       cartao_credito                       3 -22.19 -48.79  \n",
            "1       cartao_credito                       2 -15.98 -49.86  \n",
            "2               boleto                       1 -18.10 -44.38  \n",
            "3               boleto                       1 -18.10 -44.38  \n",
            "4       cartao_credito                       7 -22.19 -48.79  \n",
            "...                ...                     ...    ...    ...  \n",
            "2353    cartao_credito                       1 -22.25 -42.66  \n",
            "2354    cartao_credito                       3  -8.38 -37.86  \n",
            "2355    cartao_credito                       1 -22.19 -48.79  \n",
            "2356    cartao_credito                       1 -24.89 -51.55  \n",
            "2357    cartao_credito                       1 -22.19 -48.79  \n",
            "\n",
            "[2358 rows x 12 columns]\n"
          ]
        }
      ],
      "source": [
        "import pandas as pd\n",
        "\n",
        "url = \"https://raw.githubusercontent.com/alura-es-cursos/challenge1-data-science/refs/heads/main/base-de-dados-challenge-1/loja_1.csv\"\n",
        "url2 = \"https://raw.githubusercontent.com/alura-es-cursos/challenge1-data-science/refs/heads/main/base-de-dados-challenge-1/loja_2.csv\"\n",
        "url3 = \"https://raw.githubusercontent.com/alura-es-cursos/challenge1-data-science/refs/heads/main/base-de-dados-challenge-1/loja_3.csv\"\n",
        "url4 = \"https://raw.githubusercontent.com/alura-es-cursos/challenge1-data-science/refs/heads/main/base-de-dados-challenge-1/loja_4.csv\"\n",
        "\n",
        "loja = pd.read_csv(url)\n",
        "loja2 = pd.read_csv(url2)\n",
        "loja3 = pd.read_csv(url3)\n",
        "loja4 = pd.read_csv(url4)\n",
        "\n",
        "loja.head()\n",
        "print(loja4)\n"
      ]
    },
    {
      "cell_type": "markdown",
      "source": [
        "#1. Análise do faturamento\n"
      ],
      "metadata": {
        "id": "X62IW3KFUIYm"
      }
    },
    {
      "cell_type": "code",
      "source": [
        "df= loja4\n",
        "df.describe()\n",
        "print(df)\n",
        "\n",
        "#Dicionários de faturamento para cada loja\n",
        "faturamento = {'Max':3969.38,'50%':313.75,'min':10.07}\n",
        "faturamento2 = {'Max':3937.85,'50%':290.96 ,'Min':10.16}\n",
        "faturamento3 = {'Max':3957.62,'50%':301.67 , 'Min':10.08}\n",
        "faturamento4 = {'Max': 3869.56,'50%':279.315 ,'Min':10.17}"
      ],
      "metadata": {
        "id": "xykobSftV64I",
        "colab": {
          "base_uri": "https://localhost:8080/"
        },
        "outputId": "d48942a7-ad33-4142-d161-838626e21a39"
      },
      "execution_count": 12,
      "outputs": [
        {
          "output_type": "stream",
          "name": "stdout",
          "text": [
            "                    Produto   Categoria do Produto    Preço      Frete  \\\n",
            "0               Lava louças       eletrodomesticos  1446.46  74.604083   \n",
            "1                  Cama box                 moveis   631.70  33.919251   \n",
            "2          Bola de basquete        esporte e lazer    31.54   0.000000   \n",
            "3       Modelagem preditiva                 livros    76.93   1.680730   \n",
            "4            Fone de ouvido            eletronicos   185.14   7.442587   \n",
            "...                     ...                    ...      ...        ...   \n",
            "2353         Mesa de jantar                 moveis   303.60  16.852799   \n",
            "2354  Cadeira de escritório                 moveis   456.02  24.812798   \n",
            "2355           Copo térmico        esporte e lazer    48.99   3.139675   \n",
            "2356        Jogo de panelas  utilidades domesticas   202.45  11.062979   \n",
            "2357         Corda de pular        esporte e lazer    14.89   1.732696   \n",
            "\n",
            "     Data da Compra        Vendedor Local da compra  Avaliação da compra  \\\n",
            "0        11/11/2022    Rafael Costa              SP                    4   \n",
            "1        03/01/2020    Thiago Silva              GO                    5   \n",
            "2        25/12/2022   Larissa Alves              MG                    5   \n",
            "3        23/11/2021  Lucas Oliveira              MG                    3   \n",
            "4        25/04/2022   Bianca Santos              SP                    4   \n",
            "...             ...             ...             ...                  ...   \n",
            "2353     12/02/2020  Camila Ribeiro              RJ                    5   \n",
            "2354     17/05/2022   Felipe Santos              PE                    5   \n",
            "2355     03/05/2022  Camila Ribeiro              SP                    5   \n",
            "2356     15/06/2020   Bianca Santos              PR                    5   \n",
            "2357     17/11/2021   Felipe Santos              SP                    5   \n",
            "\n",
            "     Tipo de pagamento  Quantidade de parcelas    lat    lon  \n",
            "0       cartao_credito                       3 -22.19 -48.79  \n",
            "1       cartao_credito                       2 -15.98 -49.86  \n",
            "2               boleto                       1 -18.10 -44.38  \n",
            "3               boleto                       1 -18.10 -44.38  \n",
            "4       cartao_credito                       7 -22.19 -48.79  \n",
            "...                ...                     ...    ...    ...  \n",
            "2353    cartao_credito                       1 -22.25 -42.66  \n",
            "2354    cartao_credito                       3  -8.38 -37.86  \n",
            "2355    cartao_credito                       1 -22.19 -48.79  \n",
            "2356    cartao_credito                       1 -24.89 -51.55  \n",
            "2357    cartao_credito                       1 -22.19 -48.79  \n",
            "\n",
            "[2358 rows x 12 columns]\n"
          ]
        }
      ]
    },
    {
      "cell_type": "code",
      "source": [
        "\n",
        "# Dicionário principal com o nome das variáveis\n",
        "faturamentos = {\n",
        "    \"faturamento\": faturamento,\n",
        "    \"faturamento2\": faturamento2,\n",
        "    \"faturamento3\": faturamento3,\n",
        "    \"faturamento4\": faturamento4,\n",
        "}\n",
        "\n",
        "pesquisa = input(\"Digite o nome da loja : \")\n",
        "\n",
        "# Busca dos dados\n",
        "if pesquisa in faturamentos:\n",
        "    print(f\"\\nDados de {pesquisa}:\")\n",
        "    for chave, valor in faturamentos[pesquisa].items():\n",
        "        print(f\"{chave}: {valor}\")\n",
        "else:\n",
        "    print(\"Loja não encontrada.\")"
      ],
      "metadata": {
        "id": "KDyr8E71V3m-",
        "colab": {
          "base_uri": "https://localhost:8080/"
        },
        "outputId": "08e28d40-3467-486e-c681-91577ecdacec"
      },
      "execution_count": 3,
      "outputs": [
        {
          "output_type": "stream",
          "name": "stdout",
          "text": [
            "Digite o nome da loja : faturamento\n",
            "\n",
            "Dados de faturamento:\n",
            "Max: 3969.38\n",
            "50%: 313.75\n",
            "min: 10.07\n"
          ]
        }
      ]
    },
    {
      "cell_type": "markdown",
      "source": [
        "# 2. Vendas por Categoria"
      ],
      "metadata": {
        "id": "2V_vcAPzWZmR"
      }
    },
    {
      "cell_type": "code",
      "source": [
        "import pandas as pd\n",
        "\n",
        "dados = {\n",
        "    'Loja': ['Loja 1', 'Loja 1', 'Loja 1', 'Loja 1', 'Loja 1',\n",
        "             'Loja 2', 'Loja 2', 'Loja 2', 'Loja 2', 'Loja 2',\n",
        "             'Loja 3', 'Loja 3', 'Loja 3', 'Loja 3', 'Loja 3',\n",
        "             'Loja 4', 'Loja 4', 'Loja 4', 'Loja 4', 'Loja 4'],\n",
        "    'Categoria do Produto': ['Eletrônicos', 'Móveis', 'Brinquedos', 'Eletrodomésticos',\n",
        "                             'Móveis', 'Esporte e Lazer', 'Eletrodomésticos', 'Instrumentos Musicais',\n",
        "                             'Livros', 'Móveis', 'Esporte e Lazer', 'Eletrodomésticos', 'Instrumentos Musicais',\n",
        "                             'Livros', 'Móveis', 'Esporte e Lazer', 'Eletrodomésticos', 'Eletronicos',None,None],\n",
        "    'Preço': [219.08, 256.35, 279.51, 1009.99, None,\n",
        "              378.20, 734.62, 1626.85, 102.37, None,\n",
        "              84.56, 694.76, 78.40, 1713.50, 404.62,\n",
        "              76.93, 631.70, 31.54, 1446.46, 185.14,]\n",
        "}\n",
        "\n",
        "# Criar DataFrame\n",
        "df = pd.DataFrame(dados)\n",
        "\n",
        "# Agrupar por loja e categoria do produto e somar o preço total\n",
        "df_agrupado = df.groupby(['Loja', 'Categoria do Produto']).agg({'Preço': 'sum'}).reset_index()\n",
        "\n",
        "# Separar por loja\n",
        "lojas = df_agrupado['Loja'].unique()\n",
        "\n",
        "dfs_por_loja = {}\n",
        "for loja in lojas:\n",
        "    dfs_por_loja[loja] = df_agrupado[df_agrupado['Loja'] == loja].reset_index(drop=True)\n",
        "    print(f\"\\n{loja}\")\n",
        "    print(dfs_por_loja[loja])\n",
        "\n",
        "\n"
      ],
      "metadata": {
        "id": "A34YupIuYhfF",
        "colab": {
          "base_uri": "https://localhost:8080/"
        },
        "outputId": "da535e82-d8f8-42df-d14e-d95f1f2553c4"
      },
      "execution_count": 13,
      "outputs": [
        {
          "output_type": "stream",
          "name": "stdout",
          "text": [
            "\n",
            "Loja 1\n",
            "     Loja Categoria do Produto    Preço\n",
            "0  Loja 1           Brinquedos   279.51\n",
            "1  Loja 1     Eletrodomésticos  1009.99\n",
            "2  Loja 1          Eletrônicos   219.08\n",
            "3  Loja 1               Móveis   256.35\n",
            "\n",
            "Loja 2\n",
            "     Loja   Categoria do Produto    Preço\n",
            "0  Loja 2       Eletrodomésticos   734.62\n",
            "1  Loja 2        Esporte e Lazer   378.20\n",
            "2  Loja 2  Instrumentos Musicais  1626.85\n",
            "3  Loja 2                 Livros   102.37\n",
            "4  Loja 2                 Móveis     0.00\n",
            "\n",
            "Loja 3\n",
            "     Loja   Categoria do Produto    Preço\n",
            "0  Loja 3       Eletrodomésticos   694.76\n",
            "1  Loja 3        Esporte e Lazer    84.56\n",
            "2  Loja 3  Instrumentos Musicais    78.40\n",
            "3  Loja 3                 Livros  1713.50\n",
            "4  Loja 3                 Móveis   404.62\n",
            "\n",
            "Loja 4\n",
            "     Loja Categoria do Produto   Preço\n",
            "0  Loja 4     Eletrodomésticos  631.70\n",
            "1  Loja 4          Eletronicos   31.54\n",
            "2  Loja 4      Esporte e Lazer   76.93\n"
          ]
        }
      ]
    },
    {
      "cell_type": "code",
      "source": [],
      "metadata": {
        "id": "yZR6cOjXYSk1"
      },
      "execution_count": null,
      "outputs": []
    },
    {
      "cell_type": "markdown",
      "source": [
        "# 3. Média de Avaliação das Lojas"
      ],
      "metadata": {
        "id": "Rq6tU_xSY3jk"
      }
    },
    {
      "cell_type": "code",
      "source": [
        "# avaliações de cada loja\n",
        "avaliacoes = {\n",
        "    'loja_1': [4, 1, 1, 4, 5, 1, 5, 5, 1, 4],\n",
        "    'loja_2': [1, 3, 5, 5, 4, 5, 4, 5, 5, 4],\n",
        "    'loja_3': [4, 3, 5, 4, 1, 5, 5, 5, 4, 5],\n",
        "    'loja_4': [4, 5, 5, 3, 4, 5, 5, 5, 5, 5]\n",
        "}\n",
        "\n",
        "for loja, notas in avaliacoes.items():\n",
        "    media = sum(notas) / len(notas)\n",
        "    print(f'{loja}: média = {media:.2f}')\n"
      ],
      "metadata": {
        "id": "bh3jjjJwY5MU",
        "colab": {
          "base_uri": "https://localhost:8080/"
        },
        "outputId": "aa8bfd82-19b7-461a-f2b6-f60646dd1c56"
      },
      "execution_count": 15,
      "outputs": [
        {
          "output_type": "stream",
          "name": "stdout",
          "text": [
            "loja_1: média = 3.10\n",
            "loja_2: média = 4.10\n",
            "loja_3: média = 4.10\n",
            "loja_4: média = 4.60\n"
          ]
        }
      ]
    },
    {
      "cell_type": "code",
      "source": [],
      "metadata": {
        "id": "I0KkjPoTY88F"
      },
      "execution_count": null,
      "outputs": []
    },
    {
      "cell_type": "markdown",
      "source": [
        "# 4. Produtos Mais e Menos Vendidos"
      ],
      "metadata": {
        "id": "DmNp1KPBZCm-"
      }
    },
    {
      "cell_type": "code",
      "source": [
        "loja.head()\n",
        "print(loja)\n",
        "\n",
        "loja.head()\n",
        "print(loja2)\n",
        "\n",
        "loja.head()\n",
        "print(loja3)\n",
        "\n",
        "loja.head()\n",
        "print(loja4)\n",
        "\n",
        "todas_lojas = pd.concat([loja, loja2, loja3, loja4], ignore_index=True)\n",
        "print(todas_lojas.head())\n",
        "\n",
        "\n",
        "\n",
        "\n"
      ],
      "metadata": {
        "id": "feSSXy0MxDF-",
        "colab": {
          "base_uri": "https://localhost:8080/"
        },
        "outputId": "d552cb92-1f2a-4730-db3d-6463c96eb083"
      },
      "execution_count": 18,
      "outputs": [
        {
          "output_type": "stream",
          "name": "stdout",
          "text": [
            "                    Produto Categoria do Produto    Preço      Frete  \\\n",
            "0        Assistente virtual          eletronicos   219.08   9.249790   \n",
            "1            Mesa de jantar               moveis   256.35  11.234305   \n",
            "2         Jogo de tabuleiro           brinquedos   279.51  21.262681   \n",
            "3               Micro-ondas     eletrodomesticos  1009.99  54.667344   \n",
            "4     Cadeira de escritório               moveis   446.99  26.964689   \n",
            "...                     ...                  ...      ...        ...   \n",
            "2354       Celular Plus X42          eletronicos  1712.54  88.772042   \n",
            "2355             Impressora          eletronicos   377.02  20.363958   \n",
            "2356      Jogo de tabuleiro           brinquedos   163.82   9.611337   \n",
            "2357               Cama box               moveis   921.77  46.665919   \n",
            "2358             Smartwatch          eletronicos   259.95  11.425995   \n",
            "\n",
            "     Data da Compra        Vendedor Local da compra  Avaliação da compra  \\\n",
            "0        16/01/2021     Pedro Gomes              SP                    4   \n",
            "1        18/05/2022  Beatriz Moraes              RJ                    1   \n",
            "2        15/03/2021      João Souza              DF                    1   \n",
            "3        03/05/2022      João Souza              RS                    4   \n",
            "4        07/11/2020   Larissa Alves              MG                    5   \n",
            "...             ...             ...             ...                  ...   \n",
            "2354     15/11/2021    Thiago Silva              RJ                    1   \n",
            "2355     18/03/2023  Lucas Oliveira              SP                    5   \n",
            "2356     06/07/2021  Lucas Oliveira              PR                    5   \n",
            "2357     02/05/2022     Pedro Gomes              RN                    1   \n",
            "2358     18/06/2022   Felipe Santos              RS                    4   \n",
            "\n",
            "     Tipo de pagamento  Quantidade de parcelas    lat    lon  \n",
            "0       cartao_credito                       8 -22.19 -48.79  \n",
            "1       cartao_credito                       4 -22.25 -42.66  \n",
            "2       cartao_credito                       1 -15.83 -47.86  \n",
            "3               boleto                       1 -30.17 -53.50  \n",
            "4               boleto                       1 -18.10 -44.38  \n",
            "...                ...                     ...    ...    ...  \n",
            "2354            boleto                       1 -22.25 -42.66  \n",
            "2355            boleto                       1 -22.19 -48.79  \n",
            "2356    cartao_credito                       4 -24.89 -51.55  \n",
            "2357    cartao_credito                       2  -5.81 -36.59  \n",
            "2358    cartao_credito                       1 -30.17 -53.50  \n",
            "\n",
            "[2359 rows x 12 columns]\n",
            "                    Produto   Categoria do Produto    Preço       Frete  \\\n",
            "0     Cadeira de escritório                 moveis   378.20   20.421138   \n",
            "1                  Pandeiro  instrumentos musicais   102.37    3.035334   \n",
            "2                 Cama king                 moveis   591.13   31.759020   \n",
            "3                 Cama king                 moveis  1208.24   61.919584   \n",
            "4     Cadeira de escritório                 moveis   530.41   25.827176   \n",
            "...                     ...                    ...      ...         ...   \n",
            "2354        Jogo de panelas  utilidades domesticas   187.01   10.846135   \n",
            "2355     Lavadora de roupas       eletrodomesticos  1626.85   86.907994   \n",
            "2356            Micro-ondas       eletrodomesticos  1063.85   57.177917   \n",
            "2357       Celular Plus X42            eletronicos  2965.72  155.500107   \n",
            "2358              Bicicleta        esporte e lazer   734.62   36.700744   \n",
            "\n",
            "     Data da Compra          Vendedor Local da compra  Avaliação da compra  \\\n",
            "0        04/08/2021      Thiago Silva              MG                    1   \n",
            "1        26/11/2020     Bianca Santos              RJ                    3   \n",
            "2        22/10/2021      Thiago Silva              SC                    5   \n",
            "3        04/05/2022     Larissa Alves              RS                    5   \n",
            "4        26/02/2022    Lucas Oliveira              SP                    4   \n",
            "...             ...               ...             ...                  ...   \n",
            "2354     04/12/2022   Bruno Rodrigues              BA                    5   \n",
            "2355     09/02/2020  Isabella Pereira              SP                    4   \n",
            "2356     27/09/2022     Bianca Santos              SP                    5   \n",
            "2357     21/04/2022        João Souza              RJ                    5   \n",
            "2358     03/09/2022     Larissa Alves              MG                    4   \n",
            "\n",
            "     Tipo de pagamento  Quantidade de parcelas    lat    lon  \n",
            "0               boleto                       1 -18.10 -44.38  \n",
            "1       cartao_credito                       4 -22.25 -42.66  \n",
            "2       cartao_credito                      10 -27.45 -50.95  \n",
            "3       cartao_credito                      10 -30.17 -53.50  \n",
            "4       cartao_credito                       3 -22.19 -48.79  \n",
            "...                ...                     ...    ...    ...  \n",
            "2354    cartao_credito                       2 -13.29 -41.71  \n",
            "2355    cartao_credito                       5 -22.19 -48.79  \n",
            "2356            boleto                       1 -22.19 -48.79  \n",
            "2357    cartao_credito                       2 -22.25 -42.66  \n",
            "2358    cartao_credito                       1 -18.10 -44.38  \n",
            "\n",
            "[2359 rows x 12 columns]\n",
            "                      Produto   Categoria do Produto    Preço      Frete  \\\n",
            "0          Secadora de roupas       eletrodomesticos  1713.50  88.823159   \n",
            "1                      Cômoda                 moveis   386.81  18.180908   \n",
            "2                      Violão  instrumentos musicais   404.62  23.197592   \n",
            "3               Bola de vôlei        esporte e lazer    78.40   4.463341   \n",
            "4               Guarda roupas                 moveis   694.76  34.578319   \n",
            "...                       ...                    ...      ...        ...   \n",
            "2354  Dashboards com Power BI                 livros    35.61   2.835973   \n",
            "2355  Dashboards com Power BI                 livros    42.38   2.943620   \n",
            "2356    Cadeira de escritório                 moveis   636.10  34.159188   \n",
            "2357           Mesa de centro                 moveis   164.15   6.324933   \n",
            "2358      Modelagem preditiva                 livros    84.56  12.580214   \n",
            "\n",
            "     Data da Compra          Vendedor Local da compra  Avaliação da compra  \\\n",
            "0        17/12/2021    Camila Ribeiro              CE                    4   \n",
            "1        10/02/2021     Larissa Alves              RS                    3   \n",
            "2        22/01/2023    Lucas Oliveira              SP                    5   \n",
            "3        22/03/2022       Pedro Gomes              BA                    4   \n",
            "4        12/01/2022     Bianca Santos              SP                    1   \n",
            "...             ...               ...             ...                  ...   \n",
            "2354     21/10/2022   Bruno Rodrigues              SP                    5   \n",
            "2355     23/06/2022     Bianca Santos              SC                    5   \n",
            "2356     19/02/2023    Camila Ribeiro              DF                    5   \n",
            "2357     19/09/2021     Bianca Santos              SP                    4   \n",
            "2358     24/05/2022  Mariana Ferreira              RJ                    5   \n",
            "\n",
            "     Tipo de pagamento  Quantidade de parcelas    lat    lon  \n",
            "0       cartao_credito                       4  -5.20 -39.53  \n",
            "1       cartao_credito                       1 -30.17 -53.50  \n",
            "2       cartao_credito                       3 -22.19 -48.79  \n",
            "3       cartao_credito                       6 -13.29 -41.71  \n",
            "4       cartao_credito                       1 -22.19 -48.79  \n",
            "...                ...                     ...    ...    ...  \n",
            "2354    cartao_credito                       1 -22.19 -48.79  \n",
            "2355    cartao_credito                       1 -27.45 -50.95  \n",
            "2356    cartao_credito                       3 -15.83 -47.86  \n",
            "2357    cartao_credito                       8 -22.19 -48.79  \n",
            "2358    cartao_credito                      10 -22.25 -42.66  \n",
            "\n",
            "[2359 rows x 12 columns]\n",
            "                    Produto   Categoria do Produto    Preço      Frete  \\\n",
            "0               Lava louças       eletrodomesticos  1446.46  74.604083   \n",
            "1                  Cama box                 moveis   631.70  33.919251   \n",
            "2          Bola de basquete        esporte e lazer    31.54   0.000000   \n",
            "3       Modelagem preditiva                 livros    76.93   1.680730   \n",
            "4            Fone de ouvido            eletronicos   185.14   7.442587   \n",
            "...                     ...                    ...      ...        ...   \n",
            "2353         Mesa de jantar                 moveis   303.60  16.852799   \n",
            "2354  Cadeira de escritório                 moveis   456.02  24.812798   \n",
            "2355           Copo térmico        esporte e lazer    48.99   3.139675   \n",
            "2356        Jogo de panelas  utilidades domesticas   202.45  11.062979   \n",
            "2357         Corda de pular        esporte e lazer    14.89   1.732696   \n",
            "\n",
            "     Data da Compra        Vendedor Local da compra  Avaliação da compra  \\\n",
            "0        11/11/2022    Rafael Costa              SP                    4   \n",
            "1        03/01/2020    Thiago Silva              GO                    5   \n",
            "2        25/12/2022   Larissa Alves              MG                    5   \n",
            "3        23/11/2021  Lucas Oliveira              MG                    3   \n",
            "4        25/04/2022   Bianca Santos              SP                    4   \n",
            "...             ...             ...             ...                  ...   \n",
            "2353     12/02/2020  Camila Ribeiro              RJ                    5   \n",
            "2354     17/05/2022   Felipe Santos              PE                    5   \n",
            "2355     03/05/2022  Camila Ribeiro              SP                    5   \n",
            "2356     15/06/2020   Bianca Santos              PR                    5   \n",
            "2357     17/11/2021   Felipe Santos              SP                    5   \n",
            "\n",
            "     Tipo de pagamento  Quantidade de parcelas    lat    lon  \n",
            "0       cartao_credito                       3 -22.19 -48.79  \n",
            "1       cartao_credito                       2 -15.98 -49.86  \n",
            "2               boleto                       1 -18.10 -44.38  \n",
            "3               boleto                       1 -18.10 -44.38  \n",
            "4       cartao_credito                       7 -22.19 -48.79  \n",
            "...                ...                     ...    ...    ...  \n",
            "2353    cartao_credito                       1 -22.25 -42.66  \n",
            "2354    cartao_credito                       3  -8.38 -37.86  \n",
            "2355    cartao_credito                       1 -22.19 -48.79  \n",
            "2356    cartao_credito                       1 -24.89 -51.55  \n",
            "2357    cartao_credito                       1 -22.19 -48.79  \n",
            "\n",
            "[2358 rows x 12 columns]\n",
            "                 Produto Categoria do Produto    Preço      Frete  \\\n",
            "0     Assistente virtual          eletronicos   219.08   9.249790   \n",
            "1         Mesa de jantar               moveis   256.35  11.234305   \n",
            "2      Jogo de tabuleiro           brinquedos   279.51  21.262681   \n",
            "3            Micro-ondas     eletrodomesticos  1009.99  54.667344   \n",
            "4  Cadeira de escritório               moveis   446.99  26.964689   \n",
            "\n",
            "  Data da Compra        Vendedor Local da compra  Avaliação da compra  \\\n",
            "0     16/01/2021     Pedro Gomes              SP                    4   \n",
            "1     18/05/2022  Beatriz Moraes              RJ                    1   \n",
            "2     15/03/2021      João Souza              DF                    1   \n",
            "3     03/05/2022      João Souza              RS                    4   \n",
            "4     07/11/2020   Larissa Alves              MG                    5   \n",
            "\n",
            "  Tipo de pagamento  Quantidade de parcelas    lat    lon  \n",
            "0    cartao_credito                       8 -22.19 -48.79  \n",
            "1    cartao_credito                       4 -22.25 -42.66  \n",
            "2    cartao_credito                       1 -15.83 -47.86  \n",
            "3            boleto                       1 -30.17 -53.50  \n",
            "4            boleto                       1 -18.10 -44.38  \n"
          ]
        }
      ]
    },
    {
      "cell_type": "code",
      "source": [
        "vendas = todas_lojas.groupby([\"Categoria do Produto\", \"Produto\"]).size().reset_index(name=\"Total de Vendas\")\n",
        "\n",
        "# Mais vendidos por categoria\n",
        "mais_vendidos = vendas.sort_values([\"Categoria do Produto\", \"Total de Vendas\"], ascending=[True, False])\n",
        "print(\"Mais vendidos por categoria:\")\n",
        "print(mais_vendidos)\n",
        "\n",
        "# Menos vendidos por categoria\n",
        "menos_vendidos = vendas.sort_values([\"Categoria do Produto\", \"Total de Vendas\"], ascending=[True, True])\n",
        "print(\"Menos vendidos por categoria:\")\n",
        "print(menos_vendidos)\n",
        "\n"
      ],
      "metadata": {
        "id": "0Sw3sd4IZIGW",
        "colab": {
          "base_uri": "https://localhost:8080/"
        },
        "outputId": "57676e2e-466f-44aa-f9c7-ec32f5ee3650"
      },
      "execution_count": 19,
      "outputs": [
        {
          "output_type": "stream",
          "name": "stdout",
          "text": [
            "Mais vendidos por categoria:\n",
            "     Categoria do Produto                      Produto  Total de Vendas\n",
            "2              brinquedos     Carrinho controle remoto              206\n",
            "0              brinquedos             Blocos de montar              199\n",
            "3              brinquedos              Cubo mágico 8x8              180\n",
            "6              brinquedos            Xadrez de madeira              180\n",
            "1              brinquedos                  Boneca bebê              175\n",
            "4              brinquedos               Dinossauro Rex              175\n",
            "5              brinquedos            Jogo de tabuleiro              175\n",
            "11       eletrodomesticos                  Micro-ondas              206\n",
            "12       eletrodomesticos           Secadora de roupas              200\n",
            "8        eletrodomesticos                    Geladeira              191\n",
            "9        eletrodomesticos                  Lava louças              189\n",
            "7        eletrodomesticos                        Fogão              187\n",
            "10       eletrodomesticos           Lavadora de roupas              176\n",
            "15            eletronicos             Celular Plus X42              198\n",
            "19            eletronicos                     Smart TV              192\n",
            "18            eletronicos                   Impressora              188\n",
            "21            eletronicos                TV Led UHD 4K              187\n",
            "22            eletronicos                  Tablet ABXY              179\n",
            "16            eletronicos               Fone de ouvido              174\n",
            "20            eletronicos                   Smartwatch              172\n",
            "13            eletronicos           Assistente virtual              167\n",
            "17            eletronicos                      Headset              158\n",
            "14            eletronicos                 Celular ABXY              157\n",
            "24        esporte e lazer             Bola de basquete              197\n",
            "23        esporte e lazer                    Bicicleta              196\n",
            "26        esporte e lazer                 Copo térmico              187\n",
            "27        esporte e lazer               Corda de pular              186\n",
            "25        esporte e lazer                Bola de vôlei              184\n",
            "28        esporte e lazer                      Mochila              163\n",
            "29  instrumentos musicais                      Bateria              203\n",
            "31  instrumentos musicais                     Pandeiro              197\n",
            "32  instrumentos musicais                       Violão              188\n",
            "30  instrumentos musicais                     Guitarra              165\n",
            "36                 livros          Modelagem preditiva              200\n",
            "35                 livros     Iniciando em programação              195\n",
            "34                 livros      Dashboards com Power BI              181\n",
            "33                 livros  Ciência de dados com python              166\n",
            "40                 moveis                       Cômoda              210\n",
            "39                 moveis                    Cama king              201\n",
            "38                 moveis                     Cama box              199\n",
            "41                 moveis                Guarda roupas              197\n",
            "42                 moveis                Kit banquetas              188\n",
            "44                 moveis               Mesa de jantar              185\n",
            "46                 moveis                Sofá retrátil              182\n",
            "37                 moveis        Cadeira de escritório              181\n",
            "43                 moveis               Mesa de centro              175\n",
            "45                 moveis                     Poltrona              168\n",
            "49  utilidades domesticas              Jogo de panelas              200\n",
            "47  utilidades domesticas                     Faqueiro              189\n",
            "50  utilidades domesticas            Panela de pressão              172\n",
            "48  utilidades domesticas                Jogo de copos              169\n",
            "Menos vendidos por categoria:\n",
            "     Categoria do Produto                      Produto  Total de Vendas\n",
            "1              brinquedos                  Boneca bebê              175\n",
            "4              brinquedos               Dinossauro Rex              175\n",
            "5              brinquedos            Jogo de tabuleiro              175\n",
            "3              brinquedos              Cubo mágico 8x8              180\n",
            "6              brinquedos            Xadrez de madeira              180\n",
            "0              brinquedos             Blocos de montar              199\n",
            "2              brinquedos     Carrinho controle remoto              206\n",
            "10       eletrodomesticos           Lavadora de roupas              176\n",
            "7        eletrodomesticos                        Fogão              187\n",
            "9        eletrodomesticos                  Lava louças              189\n",
            "8        eletrodomesticos                    Geladeira              191\n",
            "12       eletrodomesticos           Secadora de roupas              200\n",
            "11       eletrodomesticos                  Micro-ondas              206\n",
            "14            eletronicos                 Celular ABXY              157\n",
            "17            eletronicos                      Headset              158\n",
            "13            eletronicos           Assistente virtual              167\n",
            "20            eletronicos                   Smartwatch              172\n",
            "16            eletronicos               Fone de ouvido              174\n",
            "22            eletronicos                  Tablet ABXY              179\n",
            "21            eletronicos                TV Led UHD 4K              187\n",
            "18            eletronicos                   Impressora              188\n",
            "19            eletronicos                     Smart TV              192\n",
            "15            eletronicos             Celular Plus X42              198\n",
            "28        esporte e lazer                      Mochila              163\n",
            "25        esporte e lazer                Bola de vôlei              184\n",
            "27        esporte e lazer               Corda de pular              186\n",
            "26        esporte e lazer                 Copo térmico              187\n",
            "23        esporte e lazer                    Bicicleta              196\n",
            "24        esporte e lazer             Bola de basquete              197\n",
            "30  instrumentos musicais                     Guitarra              165\n",
            "32  instrumentos musicais                       Violão              188\n",
            "31  instrumentos musicais                     Pandeiro              197\n",
            "29  instrumentos musicais                      Bateria              203\n",
            "33                 livros  Ciência de dados com python              166\n",
            "34                 livros      Dashboards com Power BI              181\n",
            "35                 livros     Iniciando em programação              195\n",
            "36                 livros          Modelagem preditiva              200\n",
            "45                 moveis                     Poltrona              168\n",
            "43                 moveis               Mesa de centro              175\n",
            "37                 moveis        Cadeira de escritório              181\n",
            "46                 moveis                Sofá retrátil              182\n",
            "44                 moveis               Mesa de jantar              185\n",
            "42                 moveis                Kit banquetas              188\n",
            "41                 moveis                Guarda roupas              197\n",
            "38                 moveis                     Cama box              199\n",
            "39                 moveis                    Cama king              201\n",
            "40                 moveis                       Cômoda              210\n",
            "48  utilidades domesticas                Jogo de copos              169\n",
            "50  utilidades domesticas            Panela de pressão              172\n",
            "47  utilidades domesticas                     Faqueiro              189\n",
            "49  utilidades domesticas              Jogo de panelas              200\n"
          ]
        }
      ]
    },
    {
      "cell_type": "markdown",
      "source": [
        "# 5. Frete Médio por Loja\n"
      ],
      "metadata": {
        "id": "Fl0cGi3bZKqU"
      }
    },
    {
      "cell_type": "code",
      "source": [
        "frete_medio_por_loja = todas_lojas.groupby(\"Local da compra\")[\"Frete\"].mean().reset_index()\n",
        "frete_medio_por_loja.columns = [\"Loja\", \"Frete Médio\"]\n",
        "\n",
        "# Mostrar resultado\n",
        "print(frete_medio_por_loja)\n"
      ],
      "metadata": {
        "id": "S2JeaCykZNy9",
        "colab": {
          "base_uri": "https://localhost:8080/"
        },
        "outputId": "8b2b142b-0e32-4cf0-913c-66f7e17198c0"
      },
      "execution_count": 20,
      "outputs": [
        {
          "output_type": "stream",
          "name": "stdout",
          "text": [
            "   Loja  Frete Médio\n",
            "0    AC    49.361324\n",
            "1    AL    33.258053\n",
            "2    AM    29.368488\n",
            "3    AP    21.646223\n",
            "4    BA    30.257176\n",
            "5    CE    25.002442\n",
            "6    DF    30.185782\n",
            "7    ES    33.199995\n",
            "8    GO    38.129811\n",
            "9    MA    35.129564\n",
            "10   MG    33.460381\n",
            "11   MS    33.694141\n",
            "12   MT    32.691573\n",
            "13   PA    30.633504\n",
            "14   PB    33.910674\n",
            "15   PE    35.720970\n",
            "16   PI    36.948903\n",
            "17   PR    34.569335\n",
            "18   RJ    33.935633\n",
            "19   RN    40.090987\n",
            "20   RO    46.347240\n",
            "21   RR   113.673032\n",
            "22   RS    36.582407\n",
            "23   SC    29.838897\n",
            "24   SE    30.487058\n",
            "25   SP    32.709219\n",
            "26   TO    33.462289\n"
          ]
        }
      ]
    },
    {
      "cell_type": "code",
      "source": [
        "frete_medio_por_loja = frete_medio_por_loja.sort_values(by=\"Frete Médio\", ascending=False)\n"
      ],
      "metadata": {
        "id": "0tSdCie9ZQlt"
      },
      "execution_count": 21,
      "outputs": []
    },
    {
      "cell_type": "markdown",
      "source": [
        "# **Graficos Referentes as Lojas**\n",
        "\n",
        "\n",
        "\n",
        "\n",
        "\n",
        "\n"
      ],
      "metadata": {
        "id": "B_OdF-BT5SEN"
      }
    },
    {
      "cell_type": "code",
      "source": [
        "import matplotlib.pyplot as plt\n",
        "\n",
        "plt.figure(figsize=(12, 6))\n",
        "plt.barh(frete_medio_por_loja[\"Loja\"], frete_medio_por_loja[\"Frete Médio\"], color=\"skyblue\")\n",
        "plt.xlabel(\"Frete Médio (R$)\")\n",
        "plt.ylabel(\"Loja\")\n",
        "plt.title(\"Frete Médio por Loja\")\n",
        "plt.gca().invert_yaxis()  # Loja com maior frete no topo\n",
        "plt.tight_layout()\n",
        "plt.show()\n",
        "\n"
      ],
      "metadata": {
        "colab": {
          "base_uri": "https://localhost:8080/",
          "height": 607
        },
        "id": "tcvPz3Kj4GbN",
        "outputId": "12b80afe-fdec-4b21-9fa2-70d403385273"
      },
      "execution_count": 22,
      "outputs": [
        {
          "output_type": "display_data",
          "data": {
            "text/plain": [
              "<Figure size 1200x600 with 1 Axes>"
            ],
            "image/png": "[encoded data removed]"
          },
          "metadata": {}
        }
      ]
    },
    {
      "cell_type": "code",
      "source": [
        "import pandas as pd\n",
        "import matplotlib.pyplot as plt\n",
        "\n",
        "\n",
        "faturamento = {'Loja': 'Loja 1', 'Máximo': 3969.38, 'Mediana': 313.75, 'Mínimo': 10.07}\n",
        "faturamento2 = {'Loja': 'Loja 2', 'Máximo': 3937.85, 'Mediana': 290.96, 'Mínimo': 10.16}\n",
        "faturamento3 = {'Loja': 'Loja 3', 'Máximo': 3957.62, 'Mediana': 301.67, 'Mínimo': 10.08}\n",
        "faturamento4 = {'Loja': 'Loja 4', 'Máximo': 3869.56, 'Mediana': 279.315, 'Mínimo': 10.17}\n",
        "\n",
        "# Criar DataFrame\n",
        "df_faturamento = pd.DataFrame([faturamento, faturamento2, faturamento3, faturamento4])\n",
        "\n",
        "df_faturamento_melt = df_faturamento.melt(id_vars=\"Loja\",\n",
        "                                           value_vars=[\"Máximo\", \"Mediana\", \"Mínimo\"],\n",
        "                                           var_name=\"Tipo\",\n",
        "                                           value_name=\"Valor\")\n",
        "\n",
        "import seaborn as sns\n",
        "\n",
        "plt.figure(figsize=(10, 6))\n",
        "sns.barplot(data=df_faturamento_melt, x=\"Loja\", y=\"Valor\", hue=\"Tipo\")\n",
        "plt.title(\"Faturamento por Loja (Mínimo, Mediana e Máximo)\")\n",
        "plt.ylabel(\"Valor em R$\")\n",
        "plt.xlabel(\"Loja\")\n",
        "plt.tight_layout()\n",
        "plt.show()\n"
      ],
      "metadata": {
        "colab": {
          "base_uri": "https://localhost:8080/",
          "height": 607
        },
        "id": "8xPX7Ou54Krf",
        "outputId": "9000f0b6-98e7-49e6-de00-ee9d5199d5f7"
      },
      "execution_count": 24,
      "outputs": [
        {
          "output_type": "display_data",
          "data": {
            "text/plain": [
              "<Figure size 1000x600 with 1 Axes>"
            ],
            "image/png": "[encoded data removed]"
          },
          "metadata": {}
        }
      ]
    },
    {
      "cell_type": "code",
      "source": [
        "import matplotlib.pyplot as plt\n",
        "\n",
        "avaliacoes = {\n",
        "    'loja_1': [4, 1, 1, 4, 5, 1, 5, 5, 1, 4],\n",
        "    'loja_2': [1, 3, 5, 5, 4, 5, 4, 5, 5, 4],\n",
        "    'loja_3': [4, 3, 5, 4, 1, 5, 5, 5, 4, 5],\n",
        "    'loja_4': [4, 5, 5, 3, 4, 5, 5, 5, 5, 5]\n",
        "}\n",
        "\n",
        "# Calcular a média para cada loja\n",
        "medias = {loja: sum(notas) / len(notas) for loja, notas in avaliacoes.items()}\n",
        "\n",
        "# Exibir médias\n",
        "for loja, media in medias.items():\n",
        "    print(f'{loja}: média = {media:.2f}')\n",
        "\n",
        "    # Gráfico de pizza\n",
        "plt.figure(figsize=(7, 7))\n",
        "\n",
        "# Dados para o gráfico de pizza\n",
        "labels = medias.keys()  # Lojas\n",
        "sizes = medias.values()  # Médias de avaliação\n",
        "colors = ['#ff9999','#66b3ff','#99ff99','#ffcc99']  # Cores\n",
        "\n",
        "\n",
        "plt.pie(sizes, labels=labels, autopct='%1.1f%%', startangle=140, colors=colors)\n",
        "plt.title('Média de Avaliações por Loja')\n",
        "plt.axis('equal')  # Para manter o gráfico como um círculo\n",
        "plt.show()\n",
        "\n"
      ],
      "metadata": {
        "colab": {
          "base_uri": "https://localhost:8080/",
          "height": 669
        },
        "id": "QJ9_Ltml6j6l",
        "outputId": "50b4d576-ba04-4fd9-aa9d-03a2ac9df3a6"
      },
      "execution_count": 26,
      "outputs": [
        {
          "output_type": "stream",
          "name": "stdout",
          "text": [
            "loja_1: média = 3.10\n",
            "loja_2: média = 4.10\n",
            "loja_3: média = 4.10\n",
            "loja_4: média = 4.60\n"
          ]
        },
        {
          "output_type": "display_data",
          "data": {
            "text/plain": [
              "<Figure size 700x700 with 1 Axes>"
            ],
            "image/png": "[encoded data removed]"
          },
          "metadata": {}
        }
      ]
    },
    {
      "cell_type": "code",
      "source": [],
      "metadata": {
        "id": "g_JJZ04o6_CV"
      },
      "execution_count": null,
      "outputs": []
    },
    {
      "cell_type": "markdown",
      "source": [
        "# **Relatório**"
      ],
      "metadata": {
        "id": "VsMpNRBP7YAk"
      }
    },
    {
      "cell_type": "markdown",
      "source": [
        "Com base nos gráficos gerados, é possível identificar que as quatro lojas apresentam faturamentos semelhantes. No entanto, a loja que menos se destaca é a Loja 1, tanto em relação às avaliações quanto ao faturamento apresentado nas imagens."
      ],
      "metadata": {
        "id": "38Z1Y29I9NQN"
      }
    },
    {
      "cell_type": "code",
      "source": [],
      "metadata": {
        "id": "o3qyMSR27i-1"
      },
      "execution_count": null,
      "outputs": []
    }
  ]
}